{
 "cells": [
  {
   "cell_type": "markdown",
   "metadata": {},
   "source": [
    "# Example usage\n",
    "\n",
    "Here's an example simulation, calculating income tax."
   ]
  },
  {
   "cell_type": "code",
   "execution_count": 5,
   "metadata": {
    "tags": [
     "hide-input"
    ]
   },
   "outputs": [
    {
     "data": {
      "text/plain": [
       "array([18395.], dtype=float32)"
      ]
     },
     "execution_count": 5,
     "metadata": {},
     "output_type": "execute_result"
    }
   ],
   "source": [
    "from policyengine_canada import Simulation\n",
    "\n",
    "sim = Simulation(\n",
    "    situation=dict(\n",
    "        people=dict(\n",
    "            person=dict(\n",
    "                age=30,\n",
    "                employment_income=20_000,\n",
    "            )\n",
    "        )\n",
    "    )\n",
    ")\n",
    "\n",
    "sim.calculate(\"household_net_income\")"
   ]
  },
  {
   "cell_type": "markdown",
   "metadata": {},
   "source": [
    "Here's an example of using axes to calculate how variables relate to each other. Income tax is a progressive schedule (for an example), and people over 65 are exempt. The chart below plots income tax by income and age together."
   ]
  },
  {
   "cell_type": "code",
   "execution_count": 6,
   "metadata": {
    "tags": [
     "hide-input"
    ]
   },
   "outputs": [
    {
     "data": {
      "text/html": [
       "<div>\n",
       "<style scoped>\n",
       "    .dataframe tbody tr th:only-of-type {\n",
       "        vertical-align: middle;\n",
       "    }\n",
       "\n",
       "    .dataframe tbody tr th {\n",
       "        vertical-align: top;\n",
       "    }\n",
       "\n",
       "    .dataframe thead th {\n",
       "        text-align: right;\n",
       "    }\n",
       "</style>\n",
       "<table border=\"1\" class=\"dataframe\">\n",
       "  <thead>\n",
       "    <tr style=\"text-align: right;\">\n",
       "      <th></th>\n",
       "      <th>adults</th>\n",
       "      <th>children</th>\n",
       "      <th>child_age</th>\n",
       "      <th>employment_income</th>\n",
       "      <th>household_net_income</th>\n",
       "    </tr>\n",
       "  </thead>\n",
       "  <tbody>\n",
       "    <tr>\n",
       "      <th>0</th>\n",
       "      <td>1</td>\n",
       "      <td>0</td>\n",
       "      <td>1</td>\n",
       "      <td>0.0</td>\n",
       "      <td>0.000000</td>\n",
       "    </tr>\n",
       "    <tr>\n",
       "      <th>1</th>\n",
       "      <td>1</td>\n",
       "      <td>0</td>\n",
       "      <td>1</td>\n",
       "      <td>1000.0</td>\n",
       "      <td>850.000000</td>\n",
       "    </tr>\n",
       "    <tr>\n",
       "      <th>2</th>\n",
       "      <td>1</td>\n",
       "      <td>0</td>\n",
       "      <td>1</td>\n",
       "      <td>2000.0</td>\n",
       "      <td>1700.000000</td>\n",
       "    </tr>\n",
       "    <tr>\n",
       "      <th>3</th>\n",
       "      <td>1</td>\n",
       "      <td>0</td>\n",
       "      <td>1</td>\n",
       "      <td>3000.0</td>\n",
       "      <td>2550.000000</td>\n",
       "    </tr>\n",
       "    <tr>\n",
       "      <th>4</th>\n",
       "      <td>1</td>\n",
       "      <td>0</td>\n",
       "      <td>1</td>\n",
       "      <td>4000.0</td>\n",
       "      <td>3670.000000</td>\n",
       "    </tr>\n",
       "    <tr>\n",
       "      <th>...</th>\n",
       "      <td>...</td>\n",
       "      <td>...</td>\n",
       "      <td>...</td>\n",
       "      <td>...</td>\n",
       "      <td>...</td>\n",
       "    </tr>\n",
       "    <tr>\n",
       "      <th>296</th>\n",
       "      <td>1</td>\n",
       "      <td>0</td>\n",
       "      <td>1</td>\n",
       "      <td>296000.0</td>\n",
       "      <td>219628.078125</td>\n",
       "    </tr>\n",
       "    <tr>\n",
       "      <th>297</th>\n",
       "      <td>1</td>\n",
       "      <td>0</td>\n",
       "      <td>1</td>\n",
       "      <td>297000.0</td>\n",
       "      <td>220298.078125</td>\n",
       "    </tr>\n",
       "    <tr>\n",
       "      <th>298</th>\n",
       "      <td>1</td>\n",
       "      <td>0</td>\n",
       "      <td>1</td>\n",
       "      <td>298000.0</td>\n",
       "      <td>220968.078125</td>\n",
       "    </tr>\n",
       "    <tr>\n",
       "      <th>299</th>\n",
       "      <td>1</td>\n",
       "      <td>0</td>\n",
       "      <td>1</td>\n",
       "      <td>299000.0</td>\n",
       "      <td>221638.078125</td>\n",
       "    </tr>\n",
       "    <tr>\n",
       "      <th>300</th>\n",
       "      <td>1</td>\n",
       "      <td>0</td>\n",
       "      <td>1</td>\n",
       "      <td>300000.0</td>\n",
       "      <td>222308.078125</td>\n",
       "    </tr>\n",
       "  </tbody>\n",
       "</table>\n",
       "<p>301 rows × 5 columns</p>\n",
       "</div>"
      ],
      "text/plain": [
       "     adults  children  child_age  employment_income  household_net_income\n",
       "0         1         0          1                0.0              0.000000\n",
       "1         1         0          1             1000.0            850.000000\n",
       "2         1         0          1             2000.0           1700.000000\n",
       "3         1         0          1             3000.0           2550.000000\n",
       "4         1         0          1             4000.0           3670.000000\n",
       "..      ...       ...        ...                ...                   ...\n",
       "296       1         0          1           296000.0         219628.078125\n",
       "297       1         0          1           297000.0         220298.078125\n",
       "298       1         0          1           298000.0         220968.078125\n",
       "299       1         0          1           299000.0         221638.078125\n",
       "300       1         0          1           300000.0         222308.078125\n",
       "\n",
       "[301 rows x 5 columns]"
      ]
     },
     "execution_count": 6,
     "metadata": {},
     "output_type": "execute_result"
    }
   ],
   "source": [
    "from policyengine_canada import Microsimulation, Simulation\n",
    "from policyengine_core.reforms import Reform\n",
    "from policyengine_canada.model_api import *\n",
    "import pandas as pd\n",
    "\n",
    "YEAR = 2023\n",
    "\n",
    "\n",
    "def make_hh(adults, children, child_age):\n",
    "    people = dict(head=dict(age=30))\n",
    "    members = [\"head\"]\n",
    "    if adults == 2:\n",
    "        people[\"spouse\"] = dict(age=30)\n",
    "        members += [\"spouse\"]\n",
    "    for i in range(children):\n",
    "        people[f\"child{i}\"] = dict(age=child_age)\n",
    "        members += [f\"child{i}\"]\n",
    "    return dict(\n",
    "        people=people,\n",
    "        households=dict(household=dict(members=members)),\n",
    "        # Same impact for households with $250k+ income, so show up to $300k.\n",
    "        # $1k increments.\n",
    "        axes=[[dict(name=\"employment_income\", count=301, min=0, max=300_000)]],\n",
    "    )\n",
    "\n",
    "l = []\n",
    "for adults in [1]:\n",
    "    for children in [0]:\n",
    "        for child_age in [1]:\n",
    "            hh = make_hh(adults, children, child_age)\n",
    "            baseline_hh = Simulation(situation=hh)\n",
    "            l.append(\n",
    "                pd.DataFrame(\n",
    "                    dict(\n",
    "                        adults=adults,\n",
    "                        children=children,\n",
    "                        child_age=child_age,\n",
    "                        # Reshape combined array to get head's varied earnings.\n",
    "                        employment_income=baseline_hh.calculate(\n",
    "                            \"employment_income\", YEAR\n",
    "                        )[0 :: (adults + children)],\n",
    "                        household_net_income=baseline_hh.calculate(\n",
    "                            \"household_net_income\", YEAR\n",
    "                        ),\n",
    "                    )\n",
    "                )\n",
    "            )\n",
    "\n",
    "df = pd.concat(l)\n",
    "df\n",
    "\n",
    "\n"
   ]
  },
  {
   "cell_type": "code",
   "execution_count": 7,
   "metadata": {},
   "outputs": [
    {
     "data": {
      "application/vnd.plotly.v1+json": {
       "config": {
        "plotlyServerURL": "https://plot.ly"
       },
       "data": [
        {
         "hovertemplate": "employment_income=%{x}<br>household_net_income=%{y}<extra></extra>",
         "legendgroup": "",
         "line": {
          "color": "#636efa",
          "dash": "solid"
         },
         "marker": {
          "symbol": "circle"
         },
         "mode": "lines",
         "name": "",
         "orientation": "v",
         "showlegend": false,
         "type": "scatter",
         "x": [
          0,
          1000,
          2000,
          3000,
          4000,
          5000,
          6000,
          7000,
          8000,
          9000,
          10000,
          11000,
          12000,
          13000,
          14000,
          15000,
          16000,
          17000,
          18000,
          19000,
          20000,
          21000,
          22000,
          23000,
          24000,
          25000,
          26000,
          27000,
          28000,
          29000,
          30000,
          31000,
          32000,
          33000,
          34000,
          35000,
          36000,
          37000,
          38000,
          39000,
          40000,
          41000,
          42000,
          43000,
          44000,
          45000,
          46000,
          47000,
          48000,
          49000,
          50000,
          51000,
          52000,
          53000,
          54000,
          55000,
          56000,
          57000,
          58000,
          59000,
          60000,
          61000,
          62000,
          63000,
          64000,
          65000,
          66000,
          67000,
          68000,
          69000,
          70000,
          71000,
          72000,
          73000,
          74000,
          75000,
          76000,
          77000,
          78000,
          79000,
          80000,
          81000,
          82000,
          83000,
          84000,
          85000,
          86000,
          87000,
          88000,
          89000,
          90000,
          91000,
          92000,
          93000,
          94000,
          95000,
          96000,
          97000,
          98000,
          99000,
          100000,
          101000,
          102000,
          103000,
          104000,
          105000,
          106000,
          107000,
          108000,
          109000,
          110000,
          111000,
          112000,
          113000,
          114000,
          115000,
          116000,
          117000,
          118000,
          119000,
          120000,
          121000,
          122000,
          123000,
          124000,
          125000,
          126000,
          127000,
          128000,
          129000,
          130000,
          131000,
          132000,
          133000,
          134000,
          135000,
          136000,
          137000,
          138000,
          139000,
          140000,
          141000,
          142000,
          143000,
          144000,
          145000,
          146000,
          147000,
          148000,
          149000,
          150000,
          151000,
          152000,
          153000,
          154000,
          155000,
          156000,
          157000,
          158000,
          159000,
          160000,
          161000,
          162000,
          163000,
          164000,
          165000,
          166000,
          167000,
          168000,
          169000,
          170000,
          171000,
          172000,
          173000,
          174000,
          175000,
          176000,
          177000,
          178000,
          179000,
          180000,
          181000,
          182000,
          183000,
          184000,
          185000,
          186000,
          187000,
          188000,
          189000,
          190000,
          191000,
          192000,
          193000,
          194000,
          195000,
          196000,
          197000,
          198000,
          199000,
          200000,
          201000,
          202000,
          203000,
          204000,
          205000,
          206000,
          207000,
          208000,
          209000,
          210000,
          211000,
          212000,
          213000,
          214000,
          215000,
          216000,
          217000,
          218000,
          219000,
          220000,
          221000,
          222000,
          223000,
          224000,
          225000,
          226000,
          227000,
          228000,
          229000,
          230000,
          231000,
          232000,
          233000,
          234000,
          235000,
          236000,
          237000,
          238000,
          239000,
          240000,
          241000,
          242000,
          243000,
          244000,
          245000,
          246000,
          247000,
          248000,
          249000,
          250000,
          251000,
          252000,
          253000,
          254000,
          255000,
          256000,
          257000,
          258000,
          259000,
          260000,
          261000,
          262000,
          263000,
          264000,
          265000,
          266000,
          267000,
          268000,
          269000,
          270000,
          271000,
          272000,
          273000,
          274000,
          275000,
          276000,
          277000,
          278000,
          279000,
          280000,
          281000,
          282000,
          283000,
          284000,
          285000,
          286000,
          287000,
          288000,
          289000,
          290000,
          291000,
          292000,
          293000,
          294000,
          295000,
          296000,
          297000,
          298000,
          299000,
          300000
         ],
         "xaxis": "x",
         "y": [
          0,
          850,
          1700,
          2550,
          3670,
          4790,
          5910,
          7030,
          8150,
          9045,
          9895,
          10745,
          11595,
          12445,
          13295,
          14145,
          14995,
          15845,
          16695,
          17545,
          18395,
          19245,
          20095,
          20936.599609375,
          21636.599609375,
          22336.599609375,
          23036.599609375,
          23736.599609375,
          24436.599609375,
          25136.599609375,
          25836.599609375,
          26536.599609375,
          27236.599609375,
          28050,
          28900,
          29750,
          30600,
          31450,
          32300,
          33150,
          34000,
          34850,
          35700,
          36550,
          37400,
          38250,
          39100,
          39950,
          40800,
          41650,
          42446.1015625,
          43241.1015625,
          44036.1015625,
          44831.1015625,
          45626.1015625,
          46421.1015625,
          47216.1015625,
          48011.1015625,
          48806.1015625,
          49601.1015625,
          50396.1015625,
          51191.1015625,
          51986.1015625,
          52781.1015625,
          53576.1015625,
          54371.1015625,
          55166.1015625,
          55961.1015625,
          56756.1015625,
          57551.1015625,
          58346.1015625,
          59141.1015625,
          59936.1015625,
          60731.1015625,
          61526.1015625,
          62321.1015625,
          63116.1015625,
          63911.1015625,
          64706.1015625,
          65501.1015625,
          66296.1015625,
          67091.1015625,
          67886.1015625,
          68681.1015625,
          69476.1015625,
          70271.1015625,
          71066.1015625,
          71861.1015625,
          72656.1015625,
          73451.1015625,
          74246.1015625,
          75041.1015625,
          75836.1015625,
          76631.1015625,
          77426.1015625,
          78221.1015625,
          79016.1015625,
          79811.1015625,
          80606.1015625,
          81348.296875,
          82088.296875,
          82828.296875,
          83568.296875,
          84308.296875,
          85048.296875,
          85788.296875,
          86528.296875,
          87268.296875,
          88008.296875,
          88748.296875,
          89488.296875,
          90228.296875,
          90968.296875,
          91708.296875,
          92448.296875,
          93188.296875,
          93928.296875,
          94668.296875,
          95408.296875,
          96148.296875,
          96888.296875,
          97628.296875,
          98368.296875,
          99108.296875,
          99848.296875,
          100588.296875,
          101328.296875,
          102068.296875,
          102808.296875,
          103548.296875,
          104288.296875,
          105028.296875,
          105768.296875,
          106508.296875,
          107248.296875,
          107988.296875,
          108728.296875,
          109468.296875,
          110208.296875,
          110948.296875,
          111688.296875,
          112428.296875,
          113168.296875,
          113908.296875,
          114648.296875,
          115388.296875,
          116128.296875,
          116868.296875,
          117608.296875,
          118348.296875,
          119088.296875,
          119828.296875,
          120567.640625,
          121277.640625,
          121987.640625,
          122697.640625,
          123407.640625,
          124117.640625,
          124827.640625,
          125537.640625,
          126247.640625,
          126957.640625,
          127667.640625,
          128377.640625,
          129087.640625,
          129797.640625,
          130507.640625,
          131217.640625,
          131927.640625,
          132637.640625,
          133347.640625,
          134057.640625,
          134767.640625,
          135477.640625,
          136187.640625,
          136897.640625,
          137607.640625,
          138317.640625,
          139027.640625,
          139737.640625,
          140447.640625,
          141157.640625,
          141867.640625,
          142577.640625,
          143287.640625,
          143997.640625,
          144707.640625,
          145417.640625,
          146127.640625,
          146837.640625,
          147547.640625,
          148257.640625,
          148967.640625,
          149677.640625,
          150387.640625,
          151097.640625,
          151807.640625,
          152517.640625,
          153227.640625,
          153937.640625,
          154647.640625,
          155357.640625,
          156067.640625,
          156777.640625,
          157487.640625,
          158197.640625,
          158907.640625,
          159617.640625,
          160327.640625,
          161037.640625,
          161747.640625,
          162457.640625,
          163167.640625,
          163877.640625,
          164587.640625,
          165297.640625,
          166007.640625,
          166698.078125,
          167368.078125,
          168038.078125,
          168708.078125,
          169378.078125,
          170048.078125,
          170718.078125,
          171388.078125,
          172058.078125,
          172728.078125,
          173398.078125,
          174068.078125,
          174738.078125,
          175408.078125,
          176078.078125,
          176748.078125,
          177418.078125,
          178088.078125,
          178758.078125,
          179428.078125,
          180098.078125,
          180768.078125,
          181438.078125,
          182108.078125,
          182778.078125,
          183448.078125,
          184118.078125,
          184788.078125,
          185458.078125,
          186128.078125,
          186798.078125,
          187468.078125,
          188138.078125,
          188808.078125,
          189478.078125,
          190148.078125,
          190818.078125,
          191488.078125,
          192158.078125,
          192828.078125,
          193498.078125,
          194168.078125,
          194838.078125,
          195508.078125,
          196178.078125,
          196848.078125,
          197518.078125,
          198188.078125,
          198858.078125,
          199528.078125,
          200198.078125,
          200868.078125,
          201538.078125,
          202208.078125,
          202878.078125,
          203548.078125,
          204218.078125,
          204888.078125,
          205558.078125,
          206228.078125,
          206898.078125,
          207568.078125,
          208238.078125,
          208908.078125,
          209578.078125,
          210248.078125,
          210918.078125,
          211588.078125,
          212258.078125,
          212928.078125,
          213598.078125,
          214268.078125,
          214938.078125,
          215608.078125,
          216278.078125,
          216948.078125,
          217618.078125,
          218288.078125,
          218958.078125,
          219628.078125,
          220298.078125,
          220968.078125,
          221638.078125,
          222308.078125
         ],
         "yaxis": "y"
        }
       ],
       "layout": {
        "legend": {
         "tracegroupgap": 0
        },
        "margin": {
         "t": 60
        },
        "template": {
         "data": {
          "bar": [
           {
            "error_x": {
             "color": "#2a3f5f"
            },
            "error_y": {
             "color": "#2a3f5f"
            },
            "marker": {
             "line": {
              "color": "#E5ECF6",
              "width": 0.5
             },
             "pattern": {
              "fillmode": "overlay",
              "size": 10,
              "solidity": 0.2
             }
            },
            "type": "bar"
           }
          ],
          "barpolar": [
           {
            "marker": {
             "line": {
              "color": "#E5ECF6",
              "width": 0.5
             },
             "pattern": {
              "fillmode": "overlay",
              "size": 10,
              "solidity": 0.2
             }
            },
            "type": "barpolar"
           }
          ],
          "carpet": [
           {
            "aaxis": {
             "endlinecolor": "#2a3f5f",
             "gridcolor": "white",
             "linecolor": "white",
             "minorgridcolor": "white",
             "startlinecolor": "#2a3f5f"
            },
            "baxis": {
             "endlinecolor": "#2a3f5f",
             "gridcolor": "white",
             "linecolor": "white",
             "minorgridcolor": "white",
             "startlinecolor": "#2a3f5f"
            },
            "type": "carpet"
           }
          ],
          "choropleth": [
           {
            "colorbar": {
             "outlinewidth": 0,
             "ticks": ""
            },
            "type": "choropleth"
           }
          ],
          "contour": [
           {
            "colorbar": {
             "outlinewidth": 0,
             "ticks": ""
            },
            "colorscale": [
             [
              0,
              "#0d0887"
             ],
             [
              0.1111111111111111,
              "#46039f"
             ],
             [
              0.2222222222222222,
              "#7201a8"
             ],
             [
              0.3333333333333333,
              "#9c179e"
             ],
             [
              0.4444444444444444,
              "#bd3786"
             ],
             [
              0.5555555555555556,
              "#d8576b"
             ],
             [
              0.6666666666666666,
              "#ed7953"
             ],
             [
              0.7777777777777778,
              "#fb9f3a"
             ],
             [
              0.8888888888888888,
              "#fdca26"
             ],
             [
              1,
              "#f0f921"
             ]
            ],
            "type": "contour"
           }
          ],
          "contourcarpet": [
           {
            "colorbar": {
             "outlinewidth": 0,
             "ticks": ""
            },
            "type": "contourcarpet"
           }
          ],
          "heatmap": [
           {
            "colorbar": {
             "outlinewidth": 0,
             "ticks": ""
            },
            "colorscale": [
             [
              0,
              "#0d0887"
             ],
             [
              0.1111111111111111,
              "#46039f"
             ],
             [
              0.2222222222222222,
              "#7201a8"
             ],
             [
              0.3333333333333333,
              "#9c179e"
             ],
             [
              0.4444444444444444,
              "#bd3786"
             ],
             [
              0.5555555555555556,
              "#d8576b"
             ],
             [
              0.6666666666666666,
              "#ed7953"
             ],
             [
              0.7777777777777778,
              "#fb9f3a"
             ],
             [
              0.8888888888888888,
              "#fdca26"
             ],
             [
              1,
              "#f0f921"
             ]
            ],
            "type": "heatmap"
           }
          ],
          "heatmapgl": [
           {
            "colorbar": {
             "outlinewidth": 0,
             "ticks": ""
            },
            "colorscale": [
             [
              0,
              "#0d0887"
             ],
             [
              0.1111111111111111,
              "#46039f"
             ],
             [
              0.2222222222222222,
              "#7201a8"
             ],
             [
              0.3333333333333333,
              "#9c179e"
             ],
             [
              0.4444444444444444,
              "#bd3786"
             ],
             [
              0.5555555555555556,
              "#d8576b"
             ],
             [
              0.6666666666666666,
              "#ed7953"
             ],
             [
              0.7777777777777778,
              "#fb9f3a"
             ],
             [
              0.8888888888888888,
              "#fdca26"
             ],
             [
              1,
              "#f0f921"
             ]
            ],
            "type": "heatmapgl"
           }
          ],
          "histogram": [
           {
            "marker": {
             "pattern": {
              "fillmode": "overlay",
              "size": 10,
              "solidity": 0.2
             }
            },
            "type": "histogram"
           }
          ],
          "histogram2d": [
           {
            "colorbar": {
             "outlinewidth": 0,
             "ticks": ""
            },
            "colorscale": [
             [
              0,
              "#0d0887"
             ],
             [
              0.1111111111111111,
              "#46039f"
             ],
             [
              0.2222222222222222,
              "#7201a8"
             ],
             [
              0.3333333333333333,
              "#9c179e"
             ],
             [
              0.4444444444444444,
              "#bd3786"
             ],
             [
              0.5555555555555556,
              "#d8576b"
             ],
             [
              0.6666666666666666,
              "#ed7953"
             ],
             [
              0.7777777777777778,
              "#fb9f3a"
             ],
             [
              0.8888888888888888,
              "#fdca26"
             ],
             [
              1,
              "#f0f921"
             ]
            ],
            "type": "histogram2d"
           }
          ],
          "histogram2dcontour": [
           {
            "colorbar": {
             "outlinewidth": 0,
             "ticks": ""
            },
            "colorscale": [
             [
              0,
              "#0d0887"
             ],
             [
              0.1111111111111111,
              "#46039f"
             ],
             [
              0.2222222222222222,
              "#7201a8"
             ],
             [
              0.3333333333333333,
              "#9c179e"
             ],
             [
              0.4444444444444444,
              "#bd3786"
             ],
             [
              0.5555555555555556,
              "#d8576b"
             ],
             [
              0.6666666666666666,
              "#ed7953"
             ],
             [
              0.7777777777777778,
              "#fb9f3a"
             ],
             [
              0.8888888888888888,
              "#fdca26"
             ],
             [
              1,
              "#f0f921"
             ]
            ],
            "type": "histogram2dcontour"
           }
          ],
          "mesh3d": [
           {
            "colorbar": {
             "outlinewidth": 0,
             "ticks": ""
            },
            "type": "mesh3d"
           }
          ],
          "parcoords": [
           {
            "line": {
             "colorbar": {
              "outlinewidth": 0,
              "ticks": ""
             }
            },
            "type": "parcoords"
           }
          ],
          "pie": [
           {
            "automargin": true,
            "type": "pie"
           }
          ],
          "scatter": [
           {
            "fillpattern": {
             "fillmode": "overlay",
             "size": 10,
             "solidity": 0.2
            },
            "type": "scatter"
           }
          ],
          "scatter3d": [
           {
            "line": {
             "colorbar": {
              "outlinewidth": 0,
              "ticks": ""
             }
            },
            "marker": {
             "colorbar": {
              "outlinewidth": 0,
              "ticks": ""
             }
            },
            "type": "scatter3d"
           }
          ],
          "scattercarpet": [
           {
            "marker": {
             "colorbar": {
              "outlinewidth": 0,
              "ticks": ""
             }
            },
            "type": "scattercarpet"
           }
          ],
          "scattergeo": [
           {
            "marker": {
             "colorbar": {
              "outlinewidth": 0,
              "ticks": ""
             }
            },
            "type": "scattergeo"
           }
          ],
          "scattergl": [
           {
            "marker": {
             "colorbar": {
              "outlinewidth": 0,
              "ticks": ""
             }
            },
            "type": "scattergl"
           }
          ],
          "scattermapbox": [
           {
            "marker": {
             "colorbar": {
              "outlinewidth": 0,
              "ticks": ""
             }
            },
            "type": "scattermapbox"
           }
          ],
          "scatterpolar": [
           {
            "marker": {
             "colorbar": {
              "outlinewidth": 0,
              "ticks": ""
             }
            },
            "type": "scatterpolar"
           }
          ],
          "scatterpolargl": [
           {
            "marker": {
             "colorbar": {
              "outlinewidth": 0,
              "ticks": ""
             }
            },
            "type": "scatterpolargl"
           }
          ],
          "scatterternary": [
           {
            "marker": {
             "colorbar": {
              "outlinewidth": 0,
              "ticks": ""
             }
            },
            "type": "scatterternary"
           }
          ],
          "surface": [
           {
            "colorbar": {
             "outlinewidth": 0,
             "ticks": ""
            },
            "colorscale": [
             [
              0,
              "#0d0887"
             ],
             [
              0.1111111111111111,
              "#46039f"
             ],
             [
              0.2222222222222222,
              "#7201a8"
             ],
             [
              0.3333333333333333,
              "#9c179e"
             ],
             [
              0.4444444444444444,
              "#bd3786"
             ],
             [
              0.5555555555555556,
              "#d8576b"
             ],
             [
              0.6666666666666666,
              "#ed7953"
             ],
             [
              0.7777777777777778,
              "#fb9f3a"
             ],
             [
              0.8888888888888888,
              "#fdca26"
             ],
             [
              1,
              "#f0f921"
             ]
            ],
            "type": "surface"
           }
          ],
          "table": [
           {
            "cells": {
             "fill": {
              "color": "#EBF0F8"
             },
             "line": {
              "color": "white"
             }
            },
            "header": {
             "fill": {
              "color": "#C8D4E3"
             },
             "line": {
              "color": "white"
             }
            },
            "type": "table"
           }
          ]
         },
         "layout": {
          "annotationdefaults": {
           "arrowcolor": "#2a3f5f",
           "arrowhead": 0,
           "arrowwidth": 1
          },
          "autotypenumbers": "strict",
          "coloraxis": {
           "colorbar": {
            "outlinewidth": 0,
            "ticks": ""
           }
          },
          "colorscale": {
           "diverging": [
            [
             0,
             "#8e0152"
            ],
            [
             0.1,
             "#c51b7d"
            ],
            [
             0.2,
             "#de77ae"
            ],
            [
             0.3,
             "#f1b6da"
            ],
            [
             0.4,
             "#fde0ef"
            ],
            [
             0.5,
             "#f7f7f7"
            ],
            [
             0.6,
             "#e6f5d0"
            ],
            [
             0.7,
             "#b8e186"
            ],
            [
             0.8,
             "#7fbc41"
            ],
            [
             0.9,
             "#4d9221"
            ],
            [
             1,
             "#276419"
            ]
           ],
           "sequential": [
            [
             0,
             "#0d0887"
            ],
            [
             0.1111111111111111,
             "#46039f"
            ],
            [
             0.2222222222222222,
             "#7201a8"
            ],
            [
             0.3333333333333333,
             "#9c179e"
            ],
            [
             0.4444444444444444,
             "#bd3786"
            ],
            [
             0.5555555555555556,
             "#d8576b"
            ],
            [
             0.6666666666666666,
             "#ed7953"
            ],
            [
             0.7777777777777778,
             "#fb9f3a"
            ],
            [
             0.8888888888888888,
             "#fdca26"
            ],
            [
             1,
             "#f0f921"
            ]
           ],
           "sequentialminus": [
            [
             0,
             "#0d0887"
            ],
            [
             0.1111111111111111,
             "#46039f"
            ],
            [
             0.2222222222222222,
             "#7201a8"
            ],
            [
             0.3333333333333333,
             "#9c179e"
            ],
            [
             0.4444444444444444,
             "#bd3786"
            ],
            [
             0.5555555555555556,
             "#d8576b"
            ],
            [
             0.6666666666666666,
             "#ed7953"
            ],
            [
             0.7777777777777778,
             "#fb9f3a"
            ],
            [
             0.8888888888888888,
             "#fdca26"
            ],
            [
             1,
             "#f0f921"
            ]
           ]
          },
          "colorway": [
           "#636efa",
           "#EF553B",
           "#00cc96",
           "#ab63fa",
           "#FFA15A",
           "#19d3f3",
           "#FF6692",
           "#B6E880",
           "#FF97FF",
           "#FECB52"
          ],
          "font": {
           "color": "#2a3f5f"
          },
          "geo": {
           "bgcolor": "white",
           "lakecolor": "white",
           "landcolor": "#E5ECF6",
           "showlakes": true,
           "showland": true,
           "subunitcolor": "white"
          },
          "hoverlabel": {
           "align": "left"
          },
          "hovermode": "closest",
          "mapbox": {
           "style": "light"
          },
          "paper_bgcolor": "white",
          "plot_bgcolor": "#E5ECF6",
          "polar": {
           "angularaxis": {
            "gridcolor": "white",
            "linecolor": "white",
            "ticks": ""
           },
           "bgcolor": "#E5ECF6",
           "radialaxis": {
            "gridcolor": "white",
            "linecolor": "white",
            "ticks": ""
           }
          },
          "scene": {
           "xaxis": {
            "backgroundcolor": "#E5ECF6",
            "gridcolor": "white",
            "gridwidth": 2,
            "linecolor": "white",
            "showbackground": true,
            "ticks": "",
            "zerolinecolor": "white"
           },
           "yaxis": {
            "backgroundcolor": "#E5ECF6",
            "gridcolor": "white",
            "gridwidth": 2,
            "linecolor": "white",
            "showbackground": true,
            "ticks": "",
            "zerolinecolor": "white"
           },
           "zaxis": {
            "backgroundcolor": "#E5ECF6",
            "gridcolor": "white",
            "gridwidth": 2,
            "linecolor": "white",
            "showbackground": true,
            "ticks": "",
            "zerolinecolor": "white"
           }
          },
          "shapedefaults": {
           "line": {
            "color": "#2a3f5f"
           }
          },
          "ternary": {
           "aaxis": {
            "gridcolor": "white",
            "linecolor": "white",
            "ticks": ""
           },
           "baxis": {
            "gridcolor": "white",
            "linecolor": "white",
            "ticks": ""
           },
           "bgcolor": "#E5ECF6",
           "caxis": {
            "gridcolor": "white",
            "linecolor": "white",
            "ticks": ""
           }
          },
          "title": {
           "x": 0.05
          },
          "xaxis": {
           "automargin": true,
           "gridcolor": "white",
           "linecolor": "white",
           "ticks": "",
           "title": {
            "standoff": 15
           },
           "zerolinecolor": "white",
           "zerolinewidth": 2
          },
          "yaxis": {
           "automargin": true,
           "gridcolor": "white",
           "linecolor": "white",
           "ticks": "",
           "title": {
            "standoff": 15
           },
           "zerolinecolor": "white",
           "zerolinewidth": 2
          }
         }
        },
        "xaxis": {
         "anchor": "y",
         "domain": [
          0,
          1
         ],
         "title": {
          "text": "employment_income"
         }
        },
        "yaxis": {
         "anchor": "x",
         "domain": [
          0,
          1
         ],
         "title": {
          "text": "household_net_income"
         }
        }
       }
      }
     },
     "metadata": {},
     "output_type": "display_data"
    }
   ],
   "source": [
    "import plotly.express as px\n",
    "\n",
    "px.line(df, \"employment_income\", \"household_net_income\")"
   ]
  }
 ],
 "metadata": {
  "kernelspec": {
   "display_name": "Python 3",
   "language": "python",
   "name": "python3"
  },
  "language_info": {
   "codemirror_mode": {
    "name": "ipython",
    "version": 3
   },
   "file_extension": ".py",
   "mimetype": "text/x-python",
   "name": "python",
   "nbconvert_exporter": "python",
   "pygments_lexer": "ipython3",
   "version": "3.9.7 (tags/v3.9.7:1016ef3, Aug 30 2021, 20:19:38) [MSC v.1929 64 bit (AMD64)]"
  },
  "orig_nbformat": 4,
  "vscode": {
   "interpreter": {
    "hash": "d9e9739ad85ba74e26e3ed1474342742173278503b76b5284b069ab57cf2167d"
   }
  }
 },
 "nbformat": 4,
 "nbformat_minor": 2
}
